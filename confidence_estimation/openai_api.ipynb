{
 "cells": [
  {
   "cell_type": "code",
   "execution_count": 123,
   "metadata": {},
   "outputs": [
    {
     "name": "stdout",
     "output_type": "stream",
     "text": [
      "The autoreload extension is already loaded. To reload it, use:\n",
      "  %reload_ext autoreload\n"
     ]
    }
   ],
   "source": [
    "%load_ext autoreload\n",
    "%autoreload 2\n",
    "\n",
    "import os\n",
    "import openai\n",
    "from pathlib import Path\n",
    "api_key = Path(\"/home/olab/tomerronen1/openai_api_key.txt\").read_text().strip()\n",
    "openai.api_key = api_key\n",
    "# openai.Model.list()"
   ]
  },
  {
   "cell_type": "code",
   "execution_count": 127,
   "metadata": {},
   "outputs": [],
   "source": [
    "task_prompt = \"Translate German to English: \"\n",
    "echo_prompt = \"Schreibe einen Satz: \"  # Write a sentence:\n",
    "input_text = \"schauspieler orlando bloom und model miranda kerr wollen künftig getrennte wege gehen.\"\n",
    "label = \"actors orlando bloom and model miranda kerr want to go their separate ways.\"\n",
    "max_tokens = len(input_text.split()) * 2\n",
    "model_name = \"text-babbage-001\"\n",
    "\n",
    "inference_request_text = f'{task_prompt}\"{input_text}\"'\n",
    "inference_response = openai.Completion.create(\n",
    "    model=model_name,\n",
    "    prompt=inference_request_text,\n",
    "    temperature=0, max_tokens=max_tokens, logprobs=1, echo=False)\n",
    "\n",
    "echo_request_text = f'{echo_prompt}\"{input_text}\"'\n",
    "echo_response = openai.Completion.create(\n",
    "    model=model_name,\n",
    "    prompt=echo_request_text,\n",
    "    temperature=0, max_tokens=0, logprobs=1, echo=True)"
   ]
  },
  {
   "cell_type": "code",
   "execution_count": 89,
   "metadata": {},
   "outputs": [],
   "source": [
    "# TODO:  Play with input text prompt\n",
    "# model = text-babbage-001, input text: schauspieler orlando bloom und model miranda kerr wollen künftig getrennte wege gehen.\n",
    "# Effect of different prompts:\n",
    "# newline, all tokens participate: -4.25696630598\n",
    "# newline, drop the period in the end: -3.9887395234275864\n",
    "# newline, drop first token: -3.895397971703449\n",
    "# no prompt, drop first token: -3.720909340496208\n",
    "# \"schreibe einen Satz\" (write a sentence) without the period in the end: -3.493104837549655"
   ]
  },
  {
   "cell_type": "code",
   "execution_count": 116,
   "metadata": {},
   "outputs": [
    {
     "data": {
      "text/plain": [
       "'schauspieler orlando bloom und model miranda kerr wollen künftig getrennte wege gehen.'"
      ]
     },
     "execution_count": 116,
     "metadata": {},
     "output_type": "execute_result"
    }
   ],
   "source": [
    "input_text"
   ]
  },
  {
   "cell_type": "code",
   "execution_count": 115,
   "metadata": {},
   "outputs": [
    {
     "data": {
      "text/plain": [
       "'schauspieler orlando bloom und model miranda kerr wollen künftig getrennte wege gehen'"
      ]
     },
     "execution_count": 115,
     "metadata": {},
     "output_type": "execute_result"
    }
   ],
   "source": [
    "''.join(input_text_2)"
   ]
  },
  {
   "cell_type": "code",
   "execution_count": 93,
   "metadata": {},
   "outputs": [
    {
     "data": {
      "text/plain": [
       "[-14.742448,\n",
       " -9.751782,\n",
       " -0.059743203,\n",
       " -0.0022660692,\n",
       " -0.14456026,\n",
       " -11.729814,\n",
       " -3.984284,\n",
       " -4.1132793,\n",
       " -7.384786,\n",
       " -7.6064754,\n",
       " -10.68494,\n",
       " -0.013913086,\n",
       " -2.6125996,\n",
       " -4.4880505,\n",
       " -12.113394,\n",
       " -4.792966,\n",
       " -4.7184277,\n",
       " -0.9219988,\n",
       " -0.47759908,\n",
       " -1.0111197,\n",
       " -0.06136517,\n",
       " -4.7645907,\n",
       " -0.55467683,\n",
       " -0.0024719555,\n",
       " -4.0190496,\n",
       " -3.692858,\n",
       " -0.40957245,\n",
       " -0.8133848,\n",
       " -0.0010299757,\n",
       " -12.035543]"
      ]
     },
     "execution_count": 93,
     "metadata": {},
     "output_type": "execute_result"
    }
   ],
   "source": [
    "input_logprobs"
   ]
  }
 ],
 "metadata": {
  "kernelspec": {
   "display_name": "Python 3.9.7 ('mlskel')",
   "language": "python",
   "name": "python3"
  },
  "language_info": {
   "codemirror_mode": {
    "name": "ipython",
    "version": 3
   },
   "file_extension": ".py",
   "mimetype": "text/x-python",
   "name": "python",
   "nbconvert_exporter": "python",
   "pygments_lexer": "ipython3",
   "version": "3.9.7"
  },
  "orig_nbformat": 4,
  "vscode": {
   "interpreter": {
    "hash": "1388c48c1b848a0052718750b16c870cff087208ab0cafaf53720e4cd74eb1e9"
   }
  }
 },
 "nbformat": 4,
 "nbformat_minor": 2
}
