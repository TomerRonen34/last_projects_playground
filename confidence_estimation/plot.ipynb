{
 "cells": [
  {
   "cell_type": "code",
   "execution_count": null,
   "metadata": {},
   "outputs": [],
   "source": [
    "from pathlib import Path\n",
    "import jsonlines\n",
    "import pandas as pd\n",
    "import numpy as np\n",
    "import json\n",
    "\n",
    "# metrics_path = Path(\"metrics\") / \"wmt19_de_to_en__text-curie-001__200_examples__metrics.json\"\n",
    "metrics_path = Path(\"metrics\") / \"wmt19_en_to_de__text-curie-001__200_examples__metrics.jsonl\"\n",
    "score_name = \"rougeL_score\"\n",
    "\n",
    "if metrics_path.suffix == \".jsonl\":\n",
    "    with jsonlines.open(metrics_path, 'r') as reader:\n",
    "        metrics = list(reader.iter())\n",
    "elif metrics_path.suffix == \".json\":\n",
    "    metrics = json.loads(metrics_path.read_text())\n",
    "else:\n",
    "    raise ValueError()\n",
    "\n",
    "metrics = pd.DataFrame(metrics)\n",
    "metrics[\"pred_prob\"] = np.exp(metrics[\"pred_perplexity\"])\n",
    "metrics[\"echo_prob\"] = np.exp(metrics[\"echo_perplexity\"])\n",
    "# metrics = metrics.loc[metrics[\"bleu_score\"] > 0]\n",
    "\n",
    "estimators = [\"pred_perplexity\", \"echo_perplexity\", \"pred_prob\", \"echo_prob\"]\n",
    "correlation_method = [\"pearson\",\"kendall\", \"spearman\"]\n",
    "correlations = []\n",
    "for col in estimators:\n",
    "    for method in correlation_method:\n",
    "        corr = metrics[col].corr(metrics[score_name], method=method)\n",
    "        correlations.append({\"estimator\": col, \"method\": method, \"value\": corr})\n",
    "correlations = pd.DataFrame(correlations)\n",
    "correlations = correlations.sort_values([\"method\", \"value\"], ascending=False)\n",
    "display(correlations)\n",
    "\n",
    "for col in estimators:\n",
    "    metrics.plot(x=col, y=score_name, label=col, kind='scatter')\n"
   ]
  }
 ],
 "metadata": {
  "kernelspec": {
   "display_name": "Python 3.9.7 ('mlskel')",
   "language": "python",
   "name": "python3"
  },
  "language_info": {
   "codemirror_mode": {
    "name": "ipython",
    "version": 3
   },
   "file_extension": ".py",
   "mimetype": "text/x-python",
   "name": "python",
   "nbconvert_exporter": "python",
   "pygments_lexer": "ipython3",
   "version": "3.9.7"
  },
  "orig_nbformat": 4,
  "vscode": {
   "interpreter": {
    "hash": "1388c48c1b848a0052718750b16c870cff087208ab0cafaf53720e4cd74eb1e9"
   }
  }
 },
 "nbformat": 4,
 "nbformat_minor": 2
}
