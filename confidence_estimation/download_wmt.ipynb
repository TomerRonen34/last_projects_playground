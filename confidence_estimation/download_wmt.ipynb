{
 "cells": [
  {
   "cell_type": "code",
   "execution_count": 1,
   "metadata": {},
   "outputs": [],
   "source": [
    "from sacrebleu import DATASETS\n",
    "import subprocess\n",
    "from tqdm import tqdm\n",
    "\n",
    "\n",
    "dataset_name = \"wmt20\"\n",
    "lang_pairs = DATASETS[dataset_name].langpairs.keys()\n",
    "for lang_pair in tqdm(lang_pairs):\n",
    "    command = f\"HOME=$(realpath .)  sacrebleu  --download {dataset_name}  --language-pair {lang_pair}\"\n",
    "    subprocess.check_call(command, shell=True)\n",
    "\n",
    "subprocess.check_call(\"mv .sacrebleu/* data && rm -r .sacrebleu/\", shell=True)\n"
   ]
  }
 ],
 "metadata": {
  "kernelspec": {
   "display_name": "Python 3.9.7 ('mlskel')",
   "language": "python",
   "name": "python3"
  },
  "language_info": {
   "codemirror_mode": {
    "name": "ipython",
    "version": 3
   },
   "file_extension": ".py",
   "mimetype": "text/x-python",
   "name": "python",
   "nbconvert_exporter": "python",
   "pygments_lexer": "ipython3",
   "version": "3.9.7"
  },
  "orig_nbformat": 4,
  "vscode": {
   "interpreter": {
    "hash": "1388c48c1b848a0052718750b16c870cff087208ab0cafaf53720e4cd74eb1e9"
   }
  }
 },
 "nbformat": 4,
 "nbformat_minor": 2
}
