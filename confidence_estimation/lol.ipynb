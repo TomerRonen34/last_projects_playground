{
 "cells": [
  {
   "cell_type": "code",
   "execution_count": 52,
   "metadata": {},
   "outputs": [
    {
     "data": {
      "text/plain": [
       "{'i_example': 789,\n",
       " 'input_text': '\"When it comes to the largest banks, nearly all of their employees who sell investment services have completed either APV1 or APV2 qualifications, as this is a mandatory requirement set out in their own rules.',\n",
       " 'target_text': 'Isoimpien pankkien henkilöstöstä suurin piirtein kaikki sijoituspalveluja tarjoavat ovat suorittaneet joko APV1- tai APV2-tutkinnon, koska niiden suorittaminen on yritysten omien sääntöjen mukaan pakollista.',\n",
       " 'pred_text': '\"Kun puhutaan suurimmista pankista, lähes kaikilla niiden henkilöillä, jotka myyvät sijoituspalveluja, on suoritettu joko APV1- tai APV2-pätevyys'}"
      ]
     },
     "execution_count": 52,
     "metadata": {},
     "output_type": "execute_result"
    }
   ],
   "source": [
    "import jsonlines\n",
    "p = \"/home/olab/tomerronen1/git_repos/last_projects_playground/confidence_estimation/openai_dump\" \\\n",
    "    \"/wmt19_en_to_fi__text-davinci-002__200_examples/sentences.jsonl\"\n",
    "with jsonlines.open(p, 'r') as reader:\n",
    "    sentences = list(reader.iter())\n",
    "sentences[0][\"pred_text\"]\n",
    "sentences[0]\n"
   ]
  },
  {
   "cell_type": "code",
   "execution_count": 55,
   "metadata": {},
   "outputs": [
    {
     "data": {
      "text/plain": [
       "[('en', 'ru')]"
      ]
     },
     "execution_count": 55,
     "metadata": {},
     "output_type": "execute_result"
    }
   ],
   "source": [
    "import re\n",
    "re.findall(\"(\\w\\w)_to_(\\w\\w)\", \"asddsaen_to_ru32423\")"
   ]
  }
 ],
 "metadata": {
  "kernelspec": {
   "display_name": "Python 3.9.7 ('mlskel')",
   "language": "python",
   "name": "python3"
  },
  "language_info": {
   "codemirror_mode": {
    "name": "ipython",
    "version": 3
   },
   "file_extension": ".py",
   "mimetype": "text/x-python",
   "name": "python",
   "nbconvert_exporter": "python",
   "pygments_lexer": "ipython3",
   "version": "3.9.7"
  },
  "orig_nbformat": 4,
  "vscode": {
   "interpreter": {
    "hash": "1388c48c1b848a0052718750b16c870cff087208ab0cafaf53720e4cd74eb1e9"
   }
  }
 },
 "nbformat": 4,
 "nbformat_minor": 2
}
