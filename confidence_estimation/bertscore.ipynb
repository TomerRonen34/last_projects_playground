{
 "cells": [
  {
   "cell_type": "code",
   "execution_count": 1,
   "metadata": {},
   "outputs": [
    {
     "name": "stderr",
     "output_type": "stream",
     "text": [
      "Some weights of the model checkpoint at microsoft/deberta-xlarge-mnli were not used when initializing DebertaModel: ['pooler.dense.weight', 'classifier.bias', 'pooler.dense.bias', 'classifier.weight']\n",
      "- This IS expected if you are initializing DebertaModel from the checkpoint of a model trained on another task or with another architecture (e.g. initializing a BertForSequenceClassification model from a BertForPreTraining model).\n",
      "- This IS NOT expected if you are initializing DebertaModel from the checkpoint of a model that you expect to be exactly identical (initializing a BertForSequenceClassification model from a BertForSequenceClassification model).\n"
     ]
    }
   ],
   "source": [
    "import os\n",
    "os.environ[\"XDG_CACHE_HOME\"] = \"/home/olab/tomerronen1/xdg_cache/\"\n",
    "from bert_score import BERTScorer\n",
    "scorer = BERTScorer(model_type=\"microsoft/deberta-xlarge-mnli\", lang=\"en\", rescale_with_baseline=True)"
   ]
  },
  {
   "cell_type": "code",
   "execution_count": 2,
   "metadata": {},
   "outputs": [
    {
     "name": "stdout",
     "output_type": "stream",
     "text": [
      "Calculating BertScore for wmt19_de_to_en__text-davinci-002__200_examples\n"
     ]
    }
   ],
   "source": [
    "from pathlib import Path\n",
    "import jsonlines\n",
    "dump_dir = Path(\"/home/olab/tomerronen1/git_repos/last_projects_playground/confidence_estimation/openai_dump\")\n",
    "for subdir in dump_dir.iterdir():\n",
    "    with jsonlines.open(subdir / \"metrics.jsonl\", 'r') as reader:\n",
    "        metrics_list = list(reader.iter())\n",
    "    with jsonlines.open(subdir / \"sentences.jsonl\", 'r') as reader:\n",
    "        sentences_list = list(reader.iter())\n",
    "\n",
    "    if \"bertscore_f1\" not in metrics_list[0]:\n",
    "        print(f\"Calculating BertScore for {subdir.name}\")\n",
    "\n",
    "        candidates = [sentences[\"pred_text\"] for sentences in sentences_list]\n",
    "        references = [sentences[\"target_text\"] for sentences in sentences_list]\n",
    "        precisions, recalls, f1s = scorer.score(candidates, references)\n",
    "        precisions, recalls, f1s = precisions.tolist(), recalls.tolist(), f1s.tolist()\n",
    "        metrics_list = [\n",
    "            {\"bertscore_precision\": precision, \"bertscore_recall\": recall, \"bertscore_f1\": f1, **metrics}\n",
    "            for precision, recall, f1, metrics\n",
    "            in zip(precisions, recalls, f1s, metrics_list)\n",
    "        ]\n",
    "        \n",
    "        with jsonlines.open(subdir / \"metrics.jsonl\", 'w') as writer:\n",
    "            writer.write_all(metrics_list)\n"
   ]
  }
 ],
 "metadata": {
  "kernelspec": {
   "display_name": "Python 3.9.7 ('mlskel')",
   "language": "python",
   "name": "python3"
  },
  "language_info": {
   "codemirror_mode": {
    "name": "ipython",
    "version": 3
   },
   "file_extension": ".py",
   "mimetype": "text/x-python",
   "name": "python",
   "nbconvert_exporter": "python",
   "pygments_lexer": "ipython3",
   "version": "3.9.7"
  },
  "orig_nbformat": 4,
  "vscode": {
   "interpreter": {
    "hash": "1388c48c1b848a0052718750b16c870cff087208ab0cafaf53720e4cd74eb1e9"
   }
  }
 },
 "nbformat": 4,
 "nbformat_minor": 2
}
