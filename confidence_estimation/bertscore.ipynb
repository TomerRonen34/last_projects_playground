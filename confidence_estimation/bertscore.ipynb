{
 "cells": [
  {
   "cell_type": "code",
   "execution_count": 1,
   "metadata": {},
   "outputs": [
    {
     "name": "stderr",
     "output_type": "stream",
     "text": [
      "Some weights of the model checkpoint at bert-base-multilingual-cased were not used when initializing BertModel: ['cls.predictions.transform.dense.bias', 'cls.predictions.bias', 'cls.seq_relationship.bias', 'cls.predictions.transform.LayerNorm.bias', 'cls.predictions.transform.dense.weight', 'cls.predictions.decoder.weight', 'cls.predictions.transform.LayerNorm.weight', 'cls.seq_relationship.weight']\n",
      "- This IS expected if you are initializing BertModel from the checkpoint of a model trained on another task or with another architecture (e.g. initializing a BertForSequenceClassification model from a BertForPreTraining model).\n",
      "- This IS NOT expected if you are initializing BertModel from the checkpoint of a model that you expect to be exactly identical (initializing a BertForSequenceClassification model from a BertForSequenceClassification model).\n"
     ]
    },
    {
     "data": {
      "text/plain": [
       "(tensor([1.0000]), tensor([1.0000]), tensor([1.0000]))"
      ]
     },
     "execution_count": 1,
     "metadata": {},
     "output_type": "execute_result"
    }
   ],
   "source": [
    "import os\n",
    "os.environ[\"XDG_CACHE_HOME\"] = \"/home/olab/tomerronen1/xdg_cache/\"\n",
    "from bert_score import BERTScorer\n",
    "\n",
    "force_recalculation = False\n",
    "lang = \"et\"\n",
    "rescale_with_baseline = (lang != \"tr\")\n",
    "if lang == \"en\":\n",
    "    scorer = BERTScorer(model_type=\"microsoft/deberta-xlarge-mnli\", lang=\"en\", rescale_with_baseline=True)\n",
    "else:\n",
    "    scorer = BERTScorer(lang=lang, rescale_with_baseline=rescale_with_baseline)\n",
    "\n",
    "scorer.score(['a',], ['a'])"
   ]
  },
  {
   "cell_type": "code",
   "execution_count": 2,
   "metadata": {},
   "outputs": [
    {
     "name": "stdout",
     "output_type": "stream",
     "text": [
      "Calculating BertScore for /home/olab/tomerronen1/git_repos/last_projects_playground/confidence_estimation/openai_dump/wmt19_en_to_et__text-davinci-002__200_examples\n",
      "\n"
     ]
    }
   ],
   "source": [
    "from pathlib import Path\n",
    "import jsonlines\n",
    "dump_dir = Path(\"/home/olab/tomerronen1/git_repos/last_projects_playground/confidence_estimation/openai_dump\")\n",
    "for subdir in dump_dir.iterdir():\n",
    "    results_dirs = [subdir]\n",
    "    bt_dump_dir = subdir / \"backtranslation\" / \"dump\"\n",
    "    if bt_dump_dir.exists():\n",
    "        results_dirs.append(bt_dump_dir)\n",
    "    \n",
    "    for results_dir in results_dirs:\n",
    "        if (f\"to_{lang}\" in str(results_dir)) or ((f\"{lang}_to\" in str(results_dir)) and (\"backtranslation\" in str(results_dir))):\n",
    "            with jsonlines.open(results_dir / \"metrics.jsonl\", 'r') as reader:\n",
    "                metrics_list = list(reader.iter())\n",
    "            with jsonlines.open(results_dir / \"sentences.jsonl\", 'r') as reader:\n",
    "                sentences_list = list(reader.iter())\n",
    "\n",
    "            if force_recalculation or (\"bertscore_f1\" not in metrics_list[0]):\n",
    "                print(f\"Calculating BertScore for {results_dir}\\n\")\n",
    "\n",
    "                candidates = [sentences[\"pred_text\"] for sentences in sentences_list]\n",
    "                references = [sentences[\"target_text\"] for sentences in sentences_list]\n",
    "                precisions, recalls, f1s = scorer.score(candidates, references)\n",
    "                precisions, recalls, f1s = precisions.tolist(), recalls.tolist(), f1s.tolist()\n",
    "                metrics_list = [\n",
    "                    {\"bertscore_precision\": precision, \"bertscore_recall\": recall, \"bertscore_f1\": f1, **metrics}\n",
    "                    for precision, recall, f1, metrics\n",
    "                    in zip(precisions, recalls, f1s, metrics_list)\n",
    "                ]\n",
    "                \n",
    "                with jsonlines.open(results_dir / \"metrics.jsonl\", 'w') as writer:\n",
    "                    writer.write_all(metrics_list)\n"
   ]
  }
 ],
 "metadata": {
  "kernelspec": {
   "display_name": "Python 3.9.7 ('mlskel')",
   "language": "python",
   "name": "python3"
  },
  "language_info": {
   "codemirror_mode": {
    "name": "ipython",
    "version": 3
   },
   "file_extension": ".py",
   "mimetype": "text/x-python",
   "name": "python",
   "nbconvert_exporter": "python",
   "pygments_lexer": "ipython3",
   "version": "3.9.7"
  },
  "orig_nbformat": 4,
  "vscode": {
   "interpreter": {
    "hash": "1388c48c1b848a0052718750b16c870cff087208ab0cafaf53720e4cd74eb1e9"
   }
  }
 },
 "nbformat": 4,
 "nbformat_minor": 2
}
