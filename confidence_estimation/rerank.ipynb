{
 "cells": [
  {
   "cell_type": "code",
   "execution_count": null,
   "metadata": {},
   "outputs": [],
   "source": [
    "from pathlib import Path\n",
    "import jsonlines\n",
    "import pandas as pd\n",
    "\n",
    "\n",
    "dump_dir = Path(\"mbart50_dumps\")\n",
    "\n",
    "for dump_path in dump_dir.iterdir():\n",
    "    # if \"backtranslation\" in dump_path.name and \"just_one\" in dump_path.name:\n",
    "    if \"backtranslation\" in dump_path.name and \"just_one\" not in dump_path.name:\n",
    "        with jsonlines.open(dump_path, 'r') as reader:\n",
    "            bt_results = list(reader)\n",
    "        bt_results = pd.DataFrame(bt_results)\n",
    "        \n",
    "        score_cols = [col for col in bt_results.columns if \"score\" in col and \"bt\" not in col]\n",
    "        bt_score_cols = [col for col in bt_results.columns if (\"score\" in col or \"logprob\" in col) and \"bt\" in col]\n",
    "\n",
    "        all_reranked_scores = []\n",
    "        for rerank_column in bt_score_cols:\n",
    "            idxmax = bt_results.groupby(\"id\")[rerank_column].idxmax()\n",
    "            bt_results_reranked = bt_results.loc[idxmax]\n",
    "            reranked_scores = bt_results_reranked[score_cols].mean()\n",
    "            reranked_scores.name = f\"reranked_{rerank_column}\"\n",
    "            all_reranked_scores.append(reranked_scores)\n",
    "        all_reranked_scores = pd.concat(all_reranked_scores, axis=1)\n",
    "        best_reranked_scores = all_reranked_scores.T.max()\n",
    "        best_reranked_scores.name = \"reranked_best\"\n",
    "\n",
    "        bt_results_ranked_by_confidence = bt_results.drop_duplicates(\"id\", keep=\"first\")\n",
    "        orig_scores = bt_results_ranked_by_confidence[score_cols].mean()\n",
    "        orig_scores.name = \"orig\"\n",
    "\n",
    "        oracle_best_scores = {}\n",
    "        oracle_worst_scores = {}\n",
    "        for score_col in score_cols:\n",
    "            sorted = bt_results[[\"id\", score_col]].sort_values([\"id\", score_col])\n",
    "            oracle_best = sorted.drop_duplicates(\"id\", keep=\"last\")[score_col].mean()\n",
    "            oracle_worst = sorted.drop_duplicates(\"id\", keep=\"first\")[score_col].mean()\n",
    "            oracle_best_scores[score_col] = oracle_best\n",
    "            oracle_worst_scores[score_col] = oracle_worst\n",
    "        oracle_best_scores = pd.DataFrame({\"oracle_best\": oracle_best_scores})\n",
    "        oracle_worst_scores = pd.DataFrame({\"oracle_worst\": oracle_worst_scores})\n",
    "\n",
    "        random_ranking_scores = bt_results[score_cols].mean()\n",
    "        random_ranking_scores.name = \"random\"\n",
    "\n",
    "        is_better = best_reranked_scores > orig_scores\n",
    "        is_better.name = \"is_better\"\n",
    "\n",
    "        all_scores = pd.concat([orig_scores, best_reranked_scores, is_better, oracle_best_scores, random_ranking_scores, oracle_worst_scores, all_reranked_scores], axis=1)\n",
    "\n",
    "        lang_pair = [substr for substr in dump_path.name.split('_') if '-' in substr][0]\n",
    "        print()\n",
    "        print(lang_pair)\n",
    "        display(all_scores)\n"
   ]
  }
 ],
 "metadata": {
  "kernelspec": {
   "display_name": "Python 3.9.7 ('mlskel')",
   "language": "python",
   "name": "python3"
  },
  "language_info": {
   "codemirror_mode": {
    "name": "ipython",
    "version": 3
   },
   "file_extension": ".py",
   "mimetype": "text/x-python",
   "name": "python",
   "nbconvert_exporter": "python",
   "pygments_lexer": "ipython3",
   "version": "3.9.7"
  },
  "orig_nbformat": 4,
  "vscode": {
   "interpreter": {
    "hash": "1388c48c1b848a0052718750b16c870cff087208ab0cafaf53720e4cd74eb1e9"
   }
  }
 },
 "nbformat": 4,
 "nbformat_minor": 2
}
