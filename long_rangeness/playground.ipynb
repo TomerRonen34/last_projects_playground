{
 "cells": [
  {
   "cell_type": "code",
   "execution_count": 1,
   "metadata": {},
   "outputs": [
    {
     "name": "stderr",
     "output_type": "stream",
     "text": [
      "Reusing dataset hotpot_qa (/home/olab/tomerronen1/xdg_cache/huggingface/datasets/hotpot_qa/distractor/1.0.0/133b9501f892e5193babbad937bee3b4899deb4691ef4d791e6ac0111c875bb5)\n"
     ]
    },
    {
     "data": {
      "application/vnd.jupyter.widget-view+json": {
       "model_id": "44f817ad2eae4bda9b9763da80305126",
       "version_major": 2,
       "version_minor": 0
      },
      "text/plain": [
       "  0%|          | 0/2 [00:00<?, ?it/s]"
      ]
     },
     "metadata": {},
     "output_type": "display_data"
    }
   ],
   "source": [
    "import os\n",
    "os.environ[\"XDG_CACHE_HOME\"] = \"/home/olab/tomerronen1/xdg_cache\"\n",
    "os.environ[\"AUTH_TOKEN\"] = \"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\"\n",
    "import datasets\n",
    "dataset_dict = datasets.load_dataset(\"hotpot_qa\", \"distractor\")\n"
   ]
  },
  {
   "cell_type": "code",
   "execution_count": 2,
   "metadata": {},
   "outputs": [
    {
     "name": "stdout",
     "output_type": "stream",
     "text": [
      "Which genus of moth in the world's seventh-largest country contains only one species?\n",
      "Crambidae\n",
      "{'title': ['Indogrammodes', 'Indogrammodes', 'India', 'India'], 'sent_id': [0, 1, 0, 1]}\n",
      "Indogrammodes is a genus of moths of the Crambidae family.\n",
      " It contains only one species, Indogrammodes pectinicornalis, which is found in India.\n",
      "India, officially the Republic of India (\"Bhārat Gaṇarājya\"), is a country in South Asia.\n",
      " It is the seventh-largest country by area, the second-most populous country (with over 1.2 billion people), and the most populous democracy in the world.\n"
     ]
    }
   ],
   "source": [
    "example = dataset_dict[\"train\"][6]\n",
    "print(example[\"question\"])\n",
    "print(example[\"answer\"])\n",
    "print(example[\"supporting_facts\"])\n",
    "for title, sentence_id in zip(example[\"supporting_facts\"][\"title\"], example[\"supporting_facts\"][\"sent_id\"]):\n",
    "    paragraph_id = example[\"context\"][\"title\"].index(title)\n",
    "    print(example[\"context\"][\"sentences\"][paragraph_id][sentence_id])"
   ]
  },
  {
   "cell_type": "code",
   "execution_count": null,
   "metadata": {},
   "outputs": [],
   "source": []
  },
  {
   "cell_type": "code",
   "execution_count": 20,
   "metadata": {},
   "outputs": [
    {
     "ename": "ImportError",
     "evalue": "cannot import name 'cached_path' from 'transformers.file_utils' (/home/olab/tomerronen1/miniconda3/envs/mlskel/lib/python3.9/site-packages/transformers/file_utils.py)",
     "output_type": "error",
     "traceback": [
      "\u001b[0;31m---------------------------------------------------------------------------\u001b[0m",
      "\u001b[0;31mImportError\u001b[0m                               Traceback (most recent call last)",
      "\u001b[0;32m/tmp/ipykernel_25755/1597816033.py\u001b[0m in \u001b[0;36m<module>\u001b[0;34m\u001b[0m\n\u001b[0;32m----> 1\u001b[0;31m \u001b[0;32mfrom\u001b[0m \u001b[0mtransformers\u001b[0m\u001b[0;34m.\u001b[0m\u001b[0mfile_utils\u001b[0m \u001b[0;32mimport\u001b[0m \u001b[0mcached_path\u001b[0m\u001b[0;34m\u001b[0m\u001b[0;34m\u001b[0m\u001b[0m\n\u001b[0m",
      "\u001b[0;31mImportError\u001b[0m: cannot import name 'cached_path' from 'transformers.file_utils' (/home/olab/tomerronen1/miniconda3/envs/mlskel/lib/python3.9/site-packages/transformers/file_utils.py)"
     ]
    }
   ],
   "source": [
    "from transformers.file_utils import cached_path"
   ]
  },
  {
   "cell_type": "code",
   "execution_count": 21,
   "metadata": {},
   "outputs": [],
   "source": []
  },
  {
   "cell_type": "code",
   "execution_count": 17,
   "metadata": {},
   "outputs": [
    {
     "ename": "ImportError",
     "evalue": "cannot import name 'cached_path' from 'transformers.utils' (/home/olab/tomerronen1/miniconda3/envs/mlskel/lib/python3.9/site-packages/transformers/utils/__init__.py)",
     "output_type": "error",
     "traceback": [
      "\u001b[0;31m---------------------------------------------------------------------------\u001b[0m",
      "\u001b[0;31mImportError\u001b[0m                               Traceback (most recent call last)",
      "\u001b[0;32m/tmp/ipykernel_25755/357447715.py\u001b[0m in \u001b[0;36m<module>\u001b[0;34m\u001b[0m\n\u001b[1;32m     24\u001b[0m \u001b[0;32mimport\u001b[0m \u001b[0mtransformers\u001b[0m\u001b[0;34m\u001b[0m\u001b[0;34m\u001b[0m\u001b[0m\n\u001b[1;32m     25\u001b[0m \u001b[0mtransformers\u001b[0m\u001b[0;34m.\u001b[0m\u001b[0mutils\u001b[0m\u001b[0;34m.\u001b[0m\u001b[0mhf_bucket_url\u001b[0m \u001b[0;34m=\u001b[0m \u001b[0mhf_bucket_url\u001b[0m\u001b[0;34m\u001b[0m\u001b[0;34m\u001b[0m\u001b[0m\n\u001b[0;32m---> 26\u001b[0;31m \u001b[0;32mimport\u001b[0m \u001b[0msled\u001b[0m\u001b[0;34m\u001b[0m\u001b[0;34m\u001b[0m\u001b[0m\n\u001b[0m",
      "\u001b[0;32m/home/olab/tomerronen1/miniconda3/envs/mlskel/lib/python3.9/site-packages/sled/__init__.py\u001b[0m in \u001b[0;36m<module>\u001b[0;34m\u001b[0m\n\u001b[1;32m     12\u001b[0m \u001b[0;32mfrom\u001b[0m \u001b[0;34m.\u001b[0m\u001b[0mconfiguration_sled\u001b[0m \u001b[0;32mimport\u001b[0m \u001b[0mSledConfig\u001b[0m\u001b[0;34m\u001b[0m\u001b[0;34m\u001b[0m\u001b[0m\n\u001b[1;32m     13\u001b[0m \u001b[0;31m# noinspection PyUnresolvedReferences\u001b[0m\u001b[0;34m\u001b[0m\u001b[0;34m\u001b[0m\u001b[0m\n\u001b[0;32m---> 14\u001b[0;31m \u001b[0;32mfrom\u001b[0m \u001b[0;34m.\u001b[0m\u001b[0mmodeling_sled\u001b[0m \u001b[0;32mimport\u001b[0m \u001b[0mSledModel\u001b[0m\u001b[0;34m,\u001b[0m \u001b[0mSledForConditionalGeneration\u001b[0m\u001b[0;34m,\u001b[0m \u001b[0mPREFIX_KEY\u001b[0m\u001b[0;34m\u001b[0m\u001b[0;34m\u001b[0m\u001b[0m\n\u001b[0m\u001b[1;32m     15\u001b[0m \u001b[0;32mfrom\u001b[0m \u001b[0;34m.\u001b[0m\u001b[0mtokenization_sled\u001b[0m \u001b[0;32mimport\u001b[0m \u001b[0mSledTokenizer\u001b[0m\u001b[0;34m\u001b[0m\u001b[0;34m\u001b[0m\u001b[0m\n\u001b[1;32m     16\u001b[0m \u001b[0;32mfrom\u001b[0m \u001b[0;34m.\u001b[0m\u001b[0mtokenization_sled_fast\u001b[0m \u001b[0;32mimport\u001b[0m \u001b[0mSledTokenizerFast\u001b[0m\u001b[0;34m\u001b[0m\u001b[0;34m\u001b[0m\u001b[0m\n",
      "\u001b[0;32m/home/olab/tomerronen1/miniconda3/envs/mlskel/lib/python3.9/site-packages/sled/modeling_sled.py\u001b[0m in \u001b[0;36m<module>\u001b[0;34m\u001b[0m\n\u001b[1;32m     12\u001b[0m \u001b[0;32mfrom\u001b[0m \u001b[0mtransformers\u001b[0m\u001b[0;34m.\u001b[0m\u001b[0mgeneration_utils\u001b[0m \u001b[0;32mimport\u001b[0m \u001b[0mGenerationMixin\u001b[0m\u001b[0;34m\u001b[0m\u001b[0;34m\u001b[0m\u001b[0m\n\u001b[1;32m     13\u001b[0m \u001b[0;32mfrom\u001b[0m \u001b[0mtransformers\u001b[0m\u001b[0;34m.\u001b[0m\u001b[0mmodeling_outputs\u001b[0m \u001b[0;32mimport\u001b[0m \u001b[0mBaseModelOutput\u001b[0m\u001b[0;34m\u001b[0m\u001b[0;34m\u001b[0m\u001b[0m\n\u001b[0;32m---> 14\u001b[0;31m \u001b[0;32mfrom\u001b[0m \u001b[0mtransformers\u001b[0m\u001b[0;34m.\u001b[0m\u001b[0mutils\u001b[0m \u001b[0;32mimport\u001b[0m \u001b[0mlogging\u001b[0m\u001b[0;34m,\u001b[0m \u001b[0mhf_bucket_url\u001b[0m\u001b[0;34m,\u001b[0m \u001b[0mcached_path\u001b[0m\u001b[0;34m,\u001b[0m \u001b[0mEntryNotFoundError\u001b[0m\u001b[0;34m\u001b[0m\u001b[0;34m\u001b[0m\u001b[0m\n\u001b[0m\u001b[1;32m     15\u001b[0m \u001b[0;34m\u001b[0m\u001b[0m\n\u001b[1;32m     16\u001b[0m \u001b[0;34m\u001b[0m\u001b[0m\n",
      "\u001b[0;31mImportError\u001b[0m: cannot import name 'cached_path' from 'transformers.utils' (/home/olab/tomerronen1/miniconda3/envs/mlskel/lib/python3.9/site-packages/transformers/utils/__init__.py)"
     ]
    }
   ],
   "source": [
    "S3_BUCKET_PREFIX = \"https://s3.amazonaws.com/models.huggingface.co/bert\"\n",
    "CLOUDFRONT_DISTRIB_PREFIX = \"https://cdn.huggingface.co\"\n",
    "\n",
    "\n",
    "def hf_bucket_url(model_id: str, filename: str, use_cdn=True) -> str:\n",
    "    \"\"\"\n",
    "    Taken from https://github.com/huggingface/transformers/blob/1bc13697b1d2197a18f4ed6009e19aed315ab0f0/src/transformers/file_utils.py#L451\n",
    "    \"\"\"\n",
    "    endpoint = CLOUDFRONT_DISTRIB_PREFIX if use_cdn else S3_BUCKET_PREFIX\n",
    "    legacy_format = \"/\" not in model_id\n",
    "    if legacy_format:\n",
    "        return f\"{endpoint}/{model_id}-{filename}\"\n",
    "    else:\n",
    "        return f\"{endpoint}/{model_id}/{filename}\"\n",
    "\n",
    "\n",
    "from typing import Union, Dict, Optional\n",
    "from pathlib import Path\n",
    "from urllib.parse import urlparse\n",
    "from transformers.file_utils import TRANSFORMERS_CACHE\n",
    "\n",
    "\n",
    "\n",
    "\n",
    "def is_remote_url(url_or_filename):\n",
    "    parsed = urlparse(url_or_filename)\n",
    "    return parsed.scheme in (\"http\", \"https\")\n",
    "\n",
    "def cached_path(\n",
    "    url_or_filename,\n",
    "    cache_dir=None,\n",
    "    force_download=False,\n",
    "    proxies=None,\n",
    "    resume_download=False,\n",
    "    user_agent: Union[Dict, str, None] = None,\n",
    "    extract_compressed_file=False,\n",
    "    force_extract=False,\n",
    "    local_files_only=False,\n",
    ") -> Optional[str]:\n",
    "    \"\"\"\n",
    "    Taken from https://github.com/huggingface/transformers/blob/1bc13697b1d2197a18f4ed6009e19aed315ab0f0/src/transformers/file_utils.py#L525\n",
    "    \"\"\"\n",
    "    if cache_dir is None:\n",
    "        cache_dir = TRANSFORMERS_CACHE\n",
    "    if isinstance(url_or_filename, Path):\n",
    "        url_or_filename = str(url_or_filename)\n",
    "    if isinstance(cache_dir, Path):\n",
    "        cache_dir = str(cache_dir)\n",
    "\n",
    "    if is_remote_url(url_or_filename):\n",
    "        # URL, so get it from the cache (downloading if necessary)\n",
    "        output_path = get_from_cache(\n",
    "            url_or_filename,\n",
    "            cache_dir=cache_dir,\n",
    "            force_download=force_download,\n",
    "            proxies=proxies,\n",
    "            resume_download=resume_download,\n",
    "            user_agent=user_agent,\n",
    "            local_files_only=local_files_only,\n",
    "        )\n",
    "    elif os.path.exists(url_or_filename):\n",
    "        # File, and it exists.\n",
    "        output_path = url_or_filename\n",
    "    elif urlparse(url_or_filename).scheme == \"\":\n",
    "        # File, but it doesn't exist.\n",
    "        raise EnvironmentError(\"file {} not found\".format(url_or_filename))\n",
    "    else:\n",
    "        # Something unknown\n",
    "        raise ValueError(\"unable to parse {} as a URL or as a local path\".format(url_or_filename))\n",
    "\n",
    "    if extract_compressed_file:\n",
    "        if not is_zipfile(output_path) and not tarfile.is_tarfile(output_path):\n",
    "            return output_path\n",
    "\n",
    "        # Path where we extract compressed archives\n",
    "        # We avoid '.' in dir name and add \"-extracted\" at the end: \"./model.zip\" => \"./model-zip-extracted/\"\n",
    "        output_dir, output_file = os.path.split(output_path)\n",
    "        output_extract_dir_name = output_file.replace(\".\", \"-\") + \"-extracted\"\n",
    "        output_path_extracted = os.path.join(output_dir, output_extract_dir_name)\n",
    "\n",
    "        if os.path.isdir(output_path_extracted) and os.listdir(output_path_extracted) and not force_extract:\n",
    "            return output_path_extracted\n",
    "\n",
    "        # Prevent parallel extractions\n",
    "        lock_path = output_path + \".lock\"\n",
    "        with FileLock(lock_path):\n",
    "            shutil.rmtree(output_path_extracted, ignore_errors=True)\n",
    "            os.makedirs(output_path_extracted)\n",
    "            if is_zipfile(output_path):\n",
    "                with ZipFile(output_path, \"r\") as zip_file:\n",
    "                    zip_file.extractall(output_path_extracted)\n",
    "                    zip_file.close()\n",
    "            elif tarfile.is_tarfile(output_path):\n",
    "                tar_file = tarfile.open(output_path)\n",
    "                tar_file.extractall(output_path_extracted)\n",
    "                tar_file.close()\n",
    "            else:\n",
    "                raise EnvironmentError(\"Archive format of {} could not be identified\".format(output_path))\n",
    "\n",
    "        return output_path_extracted\n",
    "\n",
    "    return output_path\n",
    "\n",
    "\n",
    "\n",
    "import transformers\n",
    "transformers.utils.hf_bucket_url = hf_bucket_url\n",
    "import sled"
   ]
  },
  {
   "cell_type": "code",
   "execution_count": 13,
   "metadata": {},
   "outputs": [
    {
     "ename": "ImportError",
     "evalue": "cannot import name 'hf_bucket_url' from 'transformers.utils' (/home/olab/tomerronen1/miniconda3/envs/mlskel/lib/python3.9/site-packages/transformers/utils/__init__.py)",
     "output_type": "error",
     "traceback": [
      "\u001b[0;31m---------------------------------------------------------------------------\u001b[0m",
      "\u001b[0;31mImportError\u001b[0m                               Traceback (most recent call last)",
      "\u001b[0;32m/tmp/ipykernel_25755/803777445.py\u001b[0m in \u001b[0;36m<module>\u001b[0;34m\u001b[0m\n\u001b[0;32m----> 1\u001b[0;31m \u001b[0;32mimport\u001b[0m \u001b[0msled\u001b[0m\u001b[0;34m\u001b[0m\u001b[0;34m\u001b[0m\u001b[0m\n\u001b[0m\u001b[1;32m      2\u001b[0m \u001b[0;32mfrom\u001b[0m \u001b[0mtransformers\u001b[0m \u001b[0;32mimport\u001b[0m \u001b[0mAutoModelForSeq2SeqLM\u001b[0m\u001b[0;34m,\u001b[0m \u001b[0mAutoConfig\u001b[0m\u001b[0;34m\u001b[0m\u001b[0;34m\u001b[0m\u001b[0m\n\u001b[1;32m      3\u001b[0m model = AutoModelForSeq2SeqLM.from_pretrained(\"tau/bart-base-sled\",\n\u001b[1;32m      4\u001b[0m                                               use_auth_token=\"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\")\n",
      "\u001b[0;32m/home/olab/tomerronen1/miniconda3/envs/mlskel/lib/python3.9/site-packages/sled/__init__.py\u001b[0m in \u001b[0;36m<module>\u001b[0;34m\u001b[0m\n\u001b[1;32m     12\u001b[0m \u001b[0;32mfrom\u001b[0m \u001b[0;34m.\u001b[0m\u001b[0mconfiguration_sled\u001b[0m \u001b[0;32mimport\u001b[0m \u001b[0mSledConfig\u001b[0m\u001b[0;34m\u001b[0m\u001b[0;34m\u001b[0m\u001b[0m\n\u001b[1;32m     13\u001b[0m \u001b[0;31m# noinspection PyUnresolvedReferences\u001b[0m\u001b[0;34m\u001b[0m\u001b[0;34m\u001b[0m\u001b[0m\n\u001b[0;32m---> 14\u001b[0;31m \u001b[0;32mfrom\u001b[0m \u001b[0;34m.\u001b[0m\u001b[0mmodeling_sled\u001b[0m \u001b[0;32mimport\u001b[0m \u001b[0mSledModel\u001b[0m\u001b[0;34m,\u001b[0m \u001b[0mSledForConditionalGeneration\u001b[0m\u001b[0;34m,\u001b[0m \u001b[0mPREFIX_KEY\u001b[0m\u001b[0;34m\u001b[0m\u001b[0;34m\u001b[0m\u001b[0m\n\u001b[0m\u001b[1;32m     15\u001b[0m \u001b[0;32mfrom\u001b[0m \u001b[0;34m.\u001b[0m\u001b[0mtokenization_sled\u001b[0m \u001b[0;32mimport\u001b[0m \u001b[0mSledTokenizer\u001b[0m\u001b[0;34m\u001b[0m\u001b[0;34m\u001b[0m\u001b[0m\n\u001b[1;32m     16\u001b[0m \u001b[0;32mfrom\u001b[0m \u001b[0;34m.\u001b[0m\u001b[0mtokenization_sled_fast\u001b[0m \u001b[0;32mimport\u001b[0m \u001b[0mSledTokenizerFast\u001b[0m\u001b[0;34m\u001b[0m\u001b[0;34m\u001b[0m\u001b[0m\n",
      "\u001b[0;32m/home/olab/tomerronen1/miniconda3/envs/mlskel/lib/python3.9/site-packages/sled/modeling_sled.py\u001b[0m in \u001b[0;36m<module>\u001b[0;34m\u001b[0m\n\u001b[1;32m     12\u001b[0m \u001b[0;32mfrom\u001b[0m \u001b[0mtransformers\u001b[0m\u001b[0;34m.\u001b[0m\u001b[0mgeneration_utils\u001b[0m \u001b[0;32mimport\u001b[0m \u001b[0mGenerationMixin\u001b[0m\u001b[0;34m\u001b[0m\u001b[0;34m\u001b[0m\u001b[0m\n\u001b[1;32m     13\u001b[0m \u001b[0;32mfrom\u001b[0m \u001b[0mtransformers\u001b[0m\u001b[0;34m.\u001b[0m\u001b[0mmodeling_outputs\u001b[0m \u001b[0;32mimport\u001b[0m \u001b[0mBaseModelOutput\u001b[0m\u001b[0;34m\u001b[0m\u001b[0;34m\u001b[0m\u001b[0m\n\u001b[0;32m---> 14\u001b[0;31m \u001b[0;32mfrom\u001b[0m \u001b[0mtransformers\u001b[0m\u001b[0;34m.\u001b[0m\u001b[0mutils\u001b[0m \u001b[0;32mimport\u001b[0m \u001b[0mlogging\u001b[0m\u001b[0;34m,\u001b[0m \u001b[0mhf_bucket_url\u001b[0m\u001b[0;34m,\u001b[0m \u001b[0mcached_path\u001b[0m\u001b[0;34m,\u001b[0m \u001b[0mEntryNotFoundError\u001b[0m\u001b[0;34m\u001b[0m\u001b[0;34m\u001b[0m\u001b[0m\n\u001b[0m\u001b[1;32m     15\u001b[0m \u001b[0;34m\u001b[0m\u001b[0m\n\u001b[1;32m     16\u001b[0m \u001b[0;34m\u001b[0m\u001b[0m\n",
      "\u001b[0;31mImportError\u001b[0m: cannot import name 'hf_bucket_url' from 'transformers.utils' (/home/olab/tomerronen1/miniconda3/envs/mlskel/lib/python3.9/site-packages/transformers/utils/__init__.py)"
     ]
    }
   ],
   "source": [
    "import sled\n",
    "from transformers import AutoModelForSeq2SeqLM, AutoConfig\n",
    "model = AutoModelForSeq2SeqLM.from_pretrained(\"tau/bart-base-sled\",\n",
    "                                              use_auth_token=\"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\")\n"
   ]
  }
 ],
 "metadata": {
  "kernelspec": {
   "display_name": "Python 3.9.7 ('mlskel')",
   "language": "python",
   "name": "python3"
  },
  "language_info": {
   "codemirror_mode": {
    "name": "ipython",
    "version": 3
   },
   "file_extension": ".py",
   "mimetype": "text/x-python",
   "name": "python",
   "nbconvert_exporter": "python",
   "pygments_lexer": "ipython3",
   "version": "3.9.7"
  },
  "orig_nbformat": 4,
  "vscode": {
   "interpreter": {
    "hash": "1388c48c1b848a0052718750b16c870cff087208ab0cafaf53720e4cd74eb1e9"
   }
  }
 },
 "nbformat": 4,
 "nbformat_minor": 2
}
