{
 "cells": [
  {
   "cell_type": "code",
   "execution_count": 1,
   "metadata": {},
   "outputs": [
    {
     "name": "stderr",
     "output_type": "stream",
     "text": [
      "Using the latest cached version of the module from /home/olab/tomerronen1/xdg_cache/huggingface/modules/datasets_modules/datasets/hotpot_qa/133b9501f892e5193babbad937bee3b4899deb4691ef4d791e6ac0111c875bb5 (last modified on Thu Sep 22 14:56:17 2022) since it couldn't be found locally at /home/olab/tomerronen1/git_repos/last_projects_playground/long_rangeness/hotpot_qa/hotpot_qa.py, or remotely (FileNotFoundError).\n",
      "Reusing dataset hotpot_qa (/home/olab/tomerronen1/xdg_cache/huggingface/datasets/hotpot_qa/distractor/1.0.0/133b9501f892e5193babbad937bee3b4899deb4691ef4d791e6ac0111c875bb5)\n"
     ]
    },
    {
     "data": {
      "application/vnd.jupyter.widget-view+json": {
       "model_id": "959e6801d0dd493db4cc9317ce3913db",
       "version_major": 2,
       "version_minor": 0
      },
      "text/plain": [
       "  0%|          | 0/2 [00:00<?, ?it/s]"
      ]
     },
     "metadata": {},
     "output_type": "display_data"
    }
   ],
   "source": [
    "import os\n",
    "os.environ[\"XDG_CACHE_HOME\"] = \"/home/olab/tomerronen1/xdg_cache\"\n",
    "os.environ[\"AUTH_TOKEN\"] = \"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\"\n",
    "import datasets\n",
    "dataset_dict = datasets.load_dataset(\"hotpot_qa\", \"distractor\")"
   ]
  },
  {
   "cell_type": "code",
   "execution_count": 2,
   "metadata": {},
   "outputs": [
    {
     "name": "stdout",
     "output_type": "stream",
     "text": [
      "Which genus of moth in the world's seventh-largest country contains only one species?\n",
      "Crambidae\n",
      "{'title': ['Indogrammodes', 'Indogrammodes', 'India', 'India'], 'sent_id': [0, 1, 0, 1]}\n",
      "Indogrammodes is a genus of moths of the Crambidae family.\n",
      " It contains only one species, Indogrammodes pectinicornalis, which is found in India.\n",
      "India, officially the Republic of India (\"Bhārat Gaṇarājya\"), is a country in South Asia.\n",
      " It is the seventh-largest country by area, the second-most populous country (with over 1.2 billion people), and the most populous democracy in the world.\n"
     ]
    }
   ],
   "source": [
    "example = dataset_dict[\"train\"][6]\n",
    "print(example[\"question\"])\n",
    "print(example[\"answer\"])\n",
    "print(example[\"supporting_facts\"])\n",
    "for title, sentence_id in zip(example[\"supporting_facts\"][\"title\"], example[\"supporting_facts\"][\"sent_id\"]):\n",
    "    paragraph_id = example[\"context\"][\"title\"].index(title)\n",
    "    print(example[\"context\"][\"sentences\"][paragraph_id][sentence_id])"
   ]
  },
  {
   "cell_type": "code",
   "execution_count": 3,
   "metadata": {},
   "outputs": [
    {
     "data": {
      "application/vnd.jupyter.widget-view+json": {
       "model_id": "da84cf5c397a4eb99f311fd66ff548de",
       "version_major": 2,
       "version_minor": 0
      },
      "text/plain": [
       "Downloading:   0%|          | 0.00/1.72k [00:00<?, ?B/s]"
      ]
     },
     "metadata": {},
     "output_type": "display_data"
    },
    {
     "data": {
      "application/vnd.jupyter.widget-view+json": {
       "model_id": "11d62209e1414abb9e1c17939a90257d",
       "version_major": 2,
       "version_minor": 0
      },
      "text/plain": [
       "Downloading:   0%|          | 0.00/558M [00:00<?, ?B/s]"
      ]
     },
     "metadata": {},
     "output_type": "display_data"
    }
   ],
   "source": [
    "import sled\n",
    "from transformers import AutoModelForSeq2SeqLM, AutoConfig\n",
    "model = AutoModelForSeq2SeqLM.from_pretrained(\"tau/bart-base-sled\",\n",
    "                                              use_auth_token=\"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\")\n"
   ]
  },
  {
   "cell_type": "code",
   "execution_count": null,
   "metadata": {},
   "outputs": [],
   "source": []
  }
 ],
 "metadata": {
  "kernelspec": {
   "display_name": "Python 3.9.7 ('mlskel')",
   "language": "python",
   "name": "python3"
  },
  "language_info": {
   "codemirror_mode": {
    "name": "ipython",
    "version": 3
   },
   "file_extension": ".py",
   "mimetype": "text/x-python",
   "name": "python",
   "nbconvert_exporter": "python",
   "pygments_lexer": "ipython3",
   "version": "3.9.7"
  },
  "orig_nbformat": 4,
  "vscode": {
   "interpreter": {
    "hash": "1388c48c1b848a0052718750b16c870cff087208ab0cafaf53720e4cd74eb1e9"
   }
  }
 },
 "nbformat": 4,
 "nbformat_minor": 2
}
